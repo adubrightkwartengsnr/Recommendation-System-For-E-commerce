{
 "cells": [
  {
   "cell_type": "markdown",
   "metadata": {},
   "source": [
    "# E-commerce Recommendation System"
   ]
  },
  {
   "cell_type": "markdown",
   "metadata": {},
   "source": [
    "## Business Understanding\n",
    "\n",
    "### Project Overview\n",
    "E-commerce platforms rely on personalized recommendations to improve user experience, increase engagement, and drive sales. Customers interact with products through various events such as **views, clicks, and add-to-cart actions**, but these interactions are often unstructured. The goal of this project is to **build a recommendation system that predicts item properties for \"add to cart\" events based on prior \"view\" events** while also detecting abnormal user behavior to enhance recommendation accuracy.\n",
    "\n",
    "### Business Objectives\n",
    "1. **Improve Personalization**\n",
    "   - Predict which product properties influence a user's decision to add an item to the cart.\n",
    "   - Help businesses tailor their recommendations based on implicit browsing behavior.\n",
    "\n",
    "2. **Reduce Noise and Improve Efficiency**\n",
    "   - Identify and remove **abnormal users** who introduce bias and noise into the dataset.\n",
    "   - Ensure data quality for better recommendation performance.\n",
    "\n",
    "3. **Enhance Customer Engagement and Sales**\n",
    "   - Deliver relevant product recommendations, increasing conversion rates.\n",
    "   - Improve user retention by optimizing the browsing experience.\n",
    "\n",
    "### Problem Statement\n",
    "- Customers interact with multiple products before making a purchase decision. However, the properties influencing these decisions (e.g., price, brand, availability) are not explicitly logged.\n",
    "- **How can we infer product properties that contribute to an \"add to cart\" decision based on past \"view\" events?**\n",
    "- Additionally, **how can we detect and filter out abnormal users who distort recommendation accuracy?**\n",
    "\n",
    "### Data Understanding\n",
    "The project relies on three key datasets:\n",
    "\n",
    "#### 1. `events.csv` (User Interaction Data)\n",
    "| Column       | Description |\n",
    "|-------------|------------|\n",
    "| `timestamp`  | Time when the interaction occurred. |\n",
    "| `visitorid`  | Unique identifier for each user. |\n",
    "| `event`      | Type of interaction (e.g., view, add to cart). |\n",
    "| `itemid`     | Unique identifier for each product. |\n",
    "| `transactionid` | Identifies transactions (for purchases). |\n",
    "\n",
    "#### 2. `item_properties.csv` (Product Metadata)\n",
    "| Column       | Description |\n",
    "|-------------|------------|\n",
    "| `timestamp`  | Time when the property was recorded. |\n",
    "| `itemid`     | Product identifier. |\n",
    "| `property`   | Feature of the product (e.g., category, availability). |\n",
    "| `value`      | Corresponding value of the property. |\n",
    "\n",
    "#### 3. `category_tree.csv` (Product Category Data)\n",
    "| Column       | Description |\n",
    "|-------------|------------|\n",
    "| `categoryid`  | Child category identifier |\n",
    "| `parentid`     | Parent category identifier. |\n",
    "\n",
    "### Project Scope\n",
    "- **Task 1:** Develop an algorithm to predict item properties for \"add to cart\" events based on \"view\" events.\n",
    "- **Task 2:** Detect abnormal users who generate noise and remove them to improve recommendation accuracy.\n",
    "\n",
    "By addressing these tasks, the project will deliver a robust recommendation system that enhances **e-commerce personalization** and **business intelligence insights** while ensuring **clean and reliable data**. 🚀\n",
    "\n",
    "### Hypothesis Testing\n",
    "- **Null Hypothesis(Ho):**\n",
    "- **Alternate Hypothesis(Ha):**\n",
    "\n",
    "### Analytical Questions\n",
    "1. How do we identify product properties that influence an \"add to cart\" decision?\n",
    "2. What factors contribute to the decision to add an item to the cart?\n",
    "3. How can we detect and filter out abnormal users who distort recommendation accuracy?\n",
    "4. What are the potential impacts of this recommendation system on the e-commerce business?\n",
    "5. How can we measure the success of this recommendation system and improve it over time?\n",
    "6. Does visit time have influence on an \"add to cart\" decision?\n",
    "7. What is the view to \"add to cart\" conversion rate?\n",
    "\n"
   ]
  },
  {
   "cell_type": "markdown",
   "metadata": {},
   "source": [
    "#### Import all necessary libraries"
   ]
  },
  {
   "cell_type": "code",
   "execution_count": 1,
   "metadata": {},
   "outputs": [
    {
     "name": "stdout",
     "output_type": "stream",
     "text": [
      "Successfully imported all libraries...\n"
     ]
    }
   ],
   "source": [
    "# Data Manipulation Libraries\n",
    "import pandas as pd\n",
    "import numpy as np\n",
    "\n",
    "# Data Visualization Libraries\n",
    "import matplotlib.pyplot as plt\n",
    "import plotly.express as px\n",
    "\n",
    "# Statistical Libraries\n",
    "from scipy import stats\n",
    "\n",
    "# Feature Engineering Libraries\n",
    "from sklearn.preprocessing import LabelEncoder\n",
    "from sklearn.model_selection import train_test_split\n",
    "\n",
    "# Machine Learning Libraries\n",
    "# from lightgbm import LGBMClassifier\n",
    "\n",
    "# Metrics Libraries\n",
    "from sklearn.metrics import accuracy_score, precision_score, recall_score, f1_score\n",
    "\n",
    "#Utils\n",
    "import warnings\n",
    "from datetime import datetime\n",
    "warnings.filterwarnings('ignore')\n",
    "\n",
    "print(\"Successfully imported all libraries...\")"
   ]
  },
  {
   "cell_type": "markdown",
   "metadata": {},
   "source": [
    "#### Data Understanding"
   ]
  },
  {
   "cell_type": "code",
   "execution_count": 2,
   "metadata": {},
   "outputs": [],
   "source": [
    "# Load datasets\n",
    "events_df = pd.read_csv('../data/events.csv')\n",
    "item_properties1_df = pd.read_csv('../data/item_properties_part1.1.csv')\n",
    "item_properties2_df = pd.read_csv('../data/item_properties_part2.csv')\n",
    "category_tree_df = pd.read_csv('../data/category_tree.csv')\n"
   ]
  },
  {
   "cell_type": "code",
   "execution_count": 3,
   "metadata": {},
   "outputs": [
    {
     "data": {
      "text/html": [
       "<div>\n",
       "<style scoped>\n",
       "    .dataframe tbody tr th:only-of-type {\n",
       "        vertical-align: middle;\n",
       "    }\n",
       "\n",
       "    .dataframe tbody tr th {\n",
       "        vertical-align: top;\n",
       "    }\n",
       "\n",
       "    .dataframe thead th {\n",
       "        text-align: right;\n",
       "    }\n",
       "</style>\n",
       "<table border=\"1\" class=\"dataframe\">\n",
       "  <thead>\n",
       "    <tr style=\"text-align: right;\">\n",
       "      <th></th>\n",
       "      <th>timestamp</th>\n",
       "      <th>visitorid</th>\n",
       "      <th>event</th>\n",
       "      <th>itemid</th>\n",
       "      <th>transactionid</th>\n",
       "    </tr>\n",
       "  </thead>\n",
       "  <tbody>\n",
       "    <tr>\n",
       "      <th>0</th>\n",
       "      <td>1433221332117</td>\n",
       "      <td>257597</td>\n",
       "      <td>view</td>\n",
       "      <td>355908</td>\n",
       "      <td>NaN</td>\n",
       "    </tr>\n",
       "    <tr>\n",
       "      <th>1</th>\n",
       "      <td>1433224214164</td>\n",
       "      <td>992329</td>\n",
       "      <td>view</td>\n",
       "      <td>248676</td>\n",
       "      <td>NaN</td>\n",
       "    </tr>\n",
       "    <tr>\n",
       "      <th>2</th>\n",
       "      <td>1433221999827</td>\n",
       "      <td>111016</td>\n",
       "      <td>view</td>\n",
       "      <td>318965</td>\n",
       "      <td>NaN</td>\n",
       "    </tr>\n",
       "    <tr>\n",
       "      <th>3</th>\n",
       "      <td>1433221955914</td>\n",
       "      <td>483717</td>\n",
       "      <td>view</td>\n",
       "      <td>253185</td>\n",
       "      <td>NaN</td>\n",
       "    </tr>\n",
       "    <tr>\n",
       "      <th>4</th>\n",
       "      <td>1433221337106</td>\n",
       "      <td>951259</td>\n",
       "      <td>view</td>\n",
       "      <td>367447</td>\n",
       "      <td>NaN</td>\n",
       "    </tr>\n",
       "  </tbody>\n",
       "</table>\n",
       "</div>"
      ],
      "text/plain": [
       "       timestamp  visitorid event  itemid  transactionid\n",
       "0  1433221332117     257597  view  355908            NaN\n",
       "1  1433224214164     992329  view  248676            NaN\n",
       "2  1433221999827     111016  view  318965            NaN\n",
       "3  1433221955914     483717  view  253185            NaN\n",
       "4  1433221337106     951259  view  367447            NaN"
      ]
     },
     "execution_count": 3,
     "metadata": {},
     "output_type": "execute_result"
    }
   ],
   "source": [
    "# Load first five rows of events_df\n",
    "events_df.head()"
   ]
  },
  {
   "cell_type": "code",
   "execution_count": 4,
   "metadata": {},
   "outputs": [
    {
     "data": {
      "text/html": [
       "<div>\n",
       "<style scoped>\n",
       "    .dataframe tbody tr th:only-of-type {\n",
       "        vertical-align: middle;\n",
       "    }\n",
       "\n",
       "    .dataframe tbody tr th {\n",
       "        vertical-align: top;\n",
       "    }\n",
       "\n",
       "    .dataframe thead th {\n",
       "        text-align: right;\n",
       "    }\n",
       "</style>\n",
       "<table border=\"1\" class=\"dataframe\">\n",
       "  <thead>\n",
       "    <tr style=\"text-align: right;\">\n",
       "      <th></th>\n",
       "      <th>categoryid</th>\n",
       "      <th>parentid</th>\n",
       "    </tr>\n",
       "  </thead>\n",
       "  <tbody>\n",
       "    <tr>\n",
       "      <th>0</th>\n",
       "      <td>1016</td>\n",
       "      <td>213.0</td>\n",
       "    </tr>\n",
       "    <tr>\n",
       "      <th>1</th>\n",
       "      <td>809</td>\n",
       "      <td>169.0</td>\n",
       "    </tr>\n",
       "    <tr>\n",
       "      <th>2</th>\n",
       "      <td>570</td>\n",
       "      <td>9.0</td>\n",
       "    </tr>\n",
       "    <tr>\n",
       "      <th>3</th>\n",
       "      <td>1691</td>\n",
       "      <td>885.0</td>\n",
       "    </tr>\n",
       "    <tr>\n",
       "      <th>4</th>\n",
       "      <td>536</td>\n",
       "      <td>1691.0</td>\n",
       "    </tr>\n",
       "  </tbody>\n",
       "</table>\n",
       "</div>"
      ],
      "text/plain": [
       "   categoryid  parentid\n",
       "0        1016     213.0\n",
       "1         809     169.0\n",
       "2         570       9.0\n",
       "3        1691     885.0\n",
       "4         536    1691.0"
      ]
     },
     "execution_count": 4,
     "metadata": {},
     "output_type": "execute_result"
    }
   ],
   "source": [
    "# Load first five rows of category_tree_df \n",
    "category_tree_df.head()"
   ]
  },
  {
   "cell_type": "code",
   "execution_count": null,
   "metadata": {},
   "outputs": [
    {
     "data": {
      "text/html": [
       "<div>\n",
       "<style scoped>\n",
       "    .dataframe tbody tr th:only-of-type {\n",
       "        vertical-align: middle;\n",
       "    }\n",
       "\n",
       "    .dataframe tbody tr th {\n",
       "        vertical-align: top;\n",
       "    }\n",
       "\n",
       "    .dataframe thead th {\n",
       "        text-align: right;\n",
       "    }\n",
       "</style>\n",
       "<table border=\"1\" class=\"dataframe\">\n",
       "  <thead>\n",
       "    <tr style=\"text-align: right;\">\n",
       "      <th></th>\n",
       "      <th>timestamp</th>\n",
       "      <th>itemid</th>\n",
       "      <th>property</th>\n",
       "      <th>value</th>\n",
       "    </tr>\n",
       "  </thead>\n",
       "  <tbody>\n",
       "    <tr>\n",
       "      <th>0</th>\n",
       "      <td>1435460400000</td>\n",
       "      <td>460429</td>\n",
       "      <td>categoryid</td>\n",
       "      <td>1338</td>\n",
       "    </tr>\n",
       "    <tr>\n",
       "      <th>1</th>\n",
       "      <td>1441508400000</td>\n",
       "      <td>206783</td>\n",
       "      <td>888</td>\n",
       "      <td>1116713 960601 n277.200</td>\n",
       "    </tr>\n",
       "    <tr>\n",
       "      <th>2</th>\n",
       "      <td>1439089200000</td>\n",
       "      <td>395014</td>\n",
       "      <td>400</td>\n",
       "      <td>n552.000 639502 n720.000 424566</td>\n",
       "    </tr>\n",
       "    <tr>\n",
       "      <th>3</th>\n",
       "      <td>1431226800000</td>\n",
       "      <td>59481</td>\n",
       "      <td>790</td>\n",
       "      <td>n15360.000</td>\n",
       "    </tr>\n",
       "    <tr>\n",
       "      <th>4</th>\n",
       "      <td>1431831600000</td>\n",
       "      <td>156781</td>\n",
       "      <td>917</td>\n",
       "      <td>828513</td>\n",
       "    </tr>\n",
       "    <tr>\n",
       "      <th>...</th>\n",
       "      <td>...</td>\n",
       "      <td>...</td>\n",
       "      <td>...</td>\n",
       "      <td>...</td>\n",
       "    </tr>\n",
       "    <tr>\n",
       "      <th>10999994</th>\n",
       "      <td>1439694000000</td>\n",
       "      <td>86599</td>\n",
       "      <td>categoryid</td>\n",
       "      <td>618</td>\n",
       "    </tr>\n",
       "    <tr>\n",
       "      <th>10999995</th>\n",
       "      <td>1435460400000</td>\n",
       "      <td>153032</td>\n",
       "      <td>1066</td>\n",
       "      <td>n1020.000 424566</td>\n",
       "    </tr>\n",
       "    <tr>\n",
       "      <th>10999996</th>\n",
       "      <td>1440298800000</td>\n",
       "      <td>421788</td>\n",
       "      <td>888</td>\n",
       "      <td>35975 856003 37346</td>\n",
       "    </tr>\n",
       "    <tr>\n",
       "      <th>10999997</th>\n",
       "      <td>1437879600000</td>\n",
       "      <td>159792</td>\n",
       "      <td>400</td>\n",
       "      <td>n552.000 639502 n720.000 424566</td>\n",
       "    </tr>\n",
       "    <tr>\n",
       "      <th>10999998</th>\n",
       "      <td>1436065200000</td>\n",
       "      <td>464846</td>\n",
       "      <td>790</td>\n",
       "      <td>n410640.000</td>\n",
       "    </tr>\n",
       "  </tbody>\n",
       "</table>\n",
       "<p>10999999 rows × 4 columns</p>\n",
       "</div>"
      ],
      "text/plain": [
       "              timestamp  itemid    property                            value\n",
       "0         1435460400000  460429  categoryid                             1338\n",
       "1         1441508400000  206783         888          1116713 960601 n277.200\n",
       "2         1439089200000  395014         400  n552.000 639502 n720.000 424566\n",
       "3         1431226800000   59481         790                       n15360.000\n",
       "4         1431831600000  156781         917                           828513\n",
       "...                 ...     ...         ...                              ...\n",
       "10999994  1439694000000   86599  categoryid                              618\n",
       "10999995  1435460400000  153032        1066                 n1020.000 424566\n",
       "10999996  1440298800000  421788         888               35975 856003 37346\n",
       "10999997  1437879600000  159792         400  n552.000 639502 n720.000 424566\n",
       "10999998  1436065200000  464846         790                      n410640.000\n",
       "\n",
       "[10999999 rows x 4 columns]"
      ]
     },
     "execution_count": 12,
     "metadata": {},
     "output_type": "execute_result"
    }
   ],
   "source": [
    "# Load the item_properties1_df\n",
    "item_properties1_df"
   ]
  },
  {
   "cell_type": "code",
   "execution_count": null,
   "metadata": {},
   "outputs": [
    {
     "data": {
      "text/html": [
       "<div>\n",
       "<style scoped>\n",
       "    .dataframe tbody tr th:only-of-type {\n",
       "        vertical-align: middle;\n",
       "    }\n",
       "\n",
       "    .dataframe tbody tr th {\n",
       "        vertical-align: top;\n",
       "    }\n",
       "\n",
       "    .dataframe thead th {\n",
       "        text-align: right;\n",
       "    }\n",
       "</style>\n",
       "<table border=\"1\" class=\"dataframe\">\n",
       "  <thead>\n",
       "    <tr style=\"text-align: right;\">\n",
       "      <th></th>\n",
       "      <th>timestamp</th>\n",
       "      <th>itemid</th>\n",
       "      <th>property</th>\n",
       "      <th>value</th>\n",
       "    </tr>\n",
       "  </thead>\n",
       "  <tbody>\n",
       "    <tr>\n",
       "      <th>0</th>\n",
       "      <td>1433041200000</td>\n",
       "      <td>183478</td>\n",
       "      <td>561</td>\n",
       "      <td>769062</td>\n",
       "    </tr>\n",
       "    <tr>\n",
       "      <th>1</th>\n",
       "      <td>1439694000000</td>\n",
       "      <td>132256</td>\n",
       "      <td>976</td>\n",
       "      <td>n26.400 1135780</td>\n",
       "    </tr>\n",
       "    <tr>\n",
       "      <th>2</th>\n",
       "      <td>1435460400000</td>\n",
       "      <td>420307</td>\n",
       "      <td>921</td>\n",
       "      <td>1149317 1257525</td>\n",
       "    </tr>\n",
       "    <tr>\n",
       "      <th>3</th>\n",
       "      <td>1431831600000</td>\n",
       "      <td>403324</td>\n",
       "      <td>917</td>\n",
       "      <td>1204143</td>\n",
       "    </tr>\n",
       "    <tr>\n",
       "      <th>4</th>\n",
       "      <td>1435460400000</td>\n",
       "      <td>230701</td>\n",
       "      <td>521</td>\n",
       "      <td>769062</td>\n",
       "    </tr>\n",
       "    <tr>\n",
       "      <th>...</th>\n",
       "      <td>...</td>\n",
       "      <td>...</td>\n",
       "      <td>...</td>\n",
       "      <td>...</td>\n",
       "    </tr>\n",
       "    <tr>\n",
       "      <th>9275898</th>\n",
       "      <td>1433646000000</td>\n",
       "      <td>236931</td>\n",
       "      <td>929</td>\n",
       "      <td>n12.000</td>\n",
       "    </tr>\n",
       "    <tr>\n",
       "      <th>9275899</th>\n",
       "      <td>1440903600000</td>\n",
       "      <td>455746</td>\n",
       "      <td>6</td>\n",
       "      <td>150169 639134</td>\n",
       "    </tr>\n",
       "    <tr>\n",
       "      <th>9275900</th>\n",
       "      <td>1439694000000</td>\n",
       "      <td>347565</td>\n",
       "      <td>686</td>\n",
       "      <td>610834</td>\n",
       "    </tr>\n",
       "    <tr>\n",
       "      <th>9275901</th>\n",
       "      <td>1433646000000</td>\n",
       "      <td>287231</td>\n",
       "      <td>867</td>\n",
       "      <td>769062</td>\n",
       "    </tr>\n",
       "    <tr>\n",
       "      <th>9275902</th>\n",
       "      <td>1442113200000</td>\n",
       "      <td>275768</td>\n",
       "      <td>888</td>\n",
       "      <td>888666 n10800.000 746840 1318567</td>\n",
       "    </tr>\n",
       "  </tbody>\n",
       "</table>\n",
       "<p>9275903 rows × 4 columns</p>\n",
       "</div>"
      ],
      "text/plain": [
       "             timestamp  itemid property                             value\n",
       "0        1433041200000  183478      561                            769062\n",
       "1        1439694000000  132256      976                   n26.400 1135780\n",
       "2        1435460400000  420307      921                   1149317 1257525\n",
       "3        1431831600000  403324      917                           1204143\n",
       "4        1435460400000  230701      521                            769062\n",
       "...                ...     ...      ...                               ...\n",
       "9275898  1433646000000  236931      929                           n12.000\n",
       "9275899  1440903600000  455746        6                     150169 639134\n",
       "9275900  1439694000000  347565      686                            610834\n",
       "9275901  1433646000000  287231      867                            769062\n",
       "9275902  1442113200000  275768      888  888666 n10800.000 746840 1318567\n",
       "\n",
       "[9275903 rows x 4 columns]"
      ]
     },
     "execution_count": 11,
     "metadata": {},
     "output_type": "execute_result"
    }
   ],
   "source": [
    "# Load the item_properties2_df\n",
    "item_properties2_df"
   ]
  },
  {
   "cell_type": "markdown",
   "metadata": {},
   "source": [
    "#### Checking Data Types of Datasets"
   ]
  },
  {
   "cell_type": "code",
   "execution_count": 13,
   "metadata": {},
   "outputs": [
    {
     "name": "stdout",
     "output_type": "stream",
     "text": [
      "<class 'pandas.core.frame.DataFrame'>\n",
      "RangeIndex: 2756101 entries, 0 to 2756100\n",
      "Data columns (total 5 columns):\n",
      " #   Column         Dtype  \n",
      "---  ------         -----  \n",
      " 0   timestamp      int64  \n",
      " 1   visitorid      int64  \n",
      " 2   event          object \n",
      " 3   itemid         int64  \n",
      " 4   transactionid  float64\n",
      "dtypes: float64(1), int64(3), object(1)\n",
      "memory usage: 105.1+ MB\n"
     ]
    }
   ],
   "source": [
    "# check info about events.df\n",
    "events_df.info()"
   ]
  },
  {
   "cell_type": "code",
   "execution_count": 14,
   "metadata": {},
   "outputs": [
    {
     "name": "stdout",
     "output_type": "stream",
     "text": [
      "<class 'pandas.core.frame.DataFrame'>\n",
      "RangeIndex: 1669 entries, 0 to 1668\n",
      "Data columns (total 2 columns):\n",
      " #   Column      Non-Null Count  Dtype  \n",
      "---  ------      --------------  -----  \n",
      " 0   categoryid  1669 non-null   int64  \n",
      " 1   parentid    1644 non-null   float64\n",
      "dtypes: float64(1), int64(1)\n",
      "memory usage: 26.2 KB\n"
     ]
    }
   ],
   "source": [
    "# check info about category_tree_df\n",
    "\n",
    "category_tree_df.info()"
   ]
  },
  {
   "cell_type": "code",
   "execution_count": null,
   "metadata": {},
   "outputs": [
    {
     "name": "stdout",
     "output_type": "stream",
     "text": [
      "<class 'pandas.core.frame.DataFrame'>\n",
      "RangeIndex: 10999999 entries, 0 to 10999998\n",
      "Data columns (total 4 columns):\n",
      " #   Column     Dtype \n",
      "---  ------     ----- \n",
      " 0   timestamp  int64 \n",
      " 1   itemid     int64 \n",
      " 2   property   object\n",
      " 3   value      object\n",
      "dtypes: int64(2), object(2)\n",
      "memory usage: 335.7+ MB\n"
     ]
    }
   ],
   "source": [
    "# check info about items_properties 1 \n",
    "\n",
    "item_properties1_df.info()"
   ]
  },
  {
   "cell_type": "code",
   "execution_count": 16,
   "metadata": {},
   "outputs": [
    {
     "name": "stdout",
     "output_type": "stream",
     "text": [
      "<class 'pandas.core.frame.DataFrame'>\n",
      "RangeIndex: 9275903 entries, 0 to 9275902\n",
      "Data columns (total 4 columns):\n",
      " #   Column     Dtype \n",
      "---  ------     ----- \n",
      " 0   timestamp  int64 \n",
      " 1   itemid     int64 \n",
      " 2   property   object\n",
      " 3   value      object\n",
      "dtypes: int64(2), object(2)\n",
      "memory usage: 283.1+ MB\n"
     ]
    }
   ],
   "source": [
    "# check info about items_properties 2\n",
    "\n",
    "item_properties2_df.info()"
   ]
  },
  {
   "cell_type": "markdown",
   "metadata": {},
   "source": [
    "### Exploratory Data Analysis"
   ]
  },
  {
   "cell_type": "code",
   "execution_count": null,
   "metadata": {},
   "outputs": [],
   "source": []
  },
  {
   "cell_type": "code",
   "execution_count": null,
   "metadata": {},
   "outputs": [],
   "source": []
  },
  {
   "cell_type": "markdown",
   "metadata": {},
   "source": [
    "#### Answering Analytical Questions"
   ]
  },
  {
   "cell_type": "code",
   "execution_count": null,
   "metadata": {},
   "outputs": [],
   "source": []
  },
  {
   "cell_type": "code",
   "execution_count": null,
   "metadata": {},
   "outputs": [],
   "source": []
  },
  {
   "cell_type": "markdown",
   "metadata": {},
   "source": [
    "#### Hypothesis Testing"
   ]
  },
  {
   "cell_type": "code",
   "execution_count": null,
   "metadata": {},
   "outputs": [],
   "source": []
  },
  {
   "cell_type": "code",
   "execution_count": null,
   "metadata": {},
   "outputs": [],
   "source": []
  },
  {
   "cell_type": "markdown",
   "metadata": {},
   "source": [
    "## Data Preparation"
   ]
  },
  {
   "cell_type": "code",
   "execution_count": null,
   "metadata": {},
   "outputs": [],
   "source": []
  },
  {
   "cell_type": "code",
   "execution_count": null,
   "metadata": {},
   "outputs": [],
   "source": []
  },
  {
   "cell_type": "markdown",
   "metadata": {},
   "source": [
    "## Modeling and Evaluation"
   ]
  },
  {
   "cell_type": "code",
   "execution_count": null,
   "metadata": {},
   "outputs": [],
   "source": []
  },
  {
   "cell_type": "code",
   "execution_count": null,
   "metadata": {},
   "outputs": [],
   "source": []
  },
  {
   "cell_type": "markdown",
   "metadata": {},
   "source": [
    "## Deployment"
   ]
  },
  {
   "cell_type": "code",
   "execution_count": null,
   "metadata": {},
   "outputs": [],
   "source": []
  },
  {
   "cell_type": "code",
   "execution_count": null,
   "metadata": {},
   "outputs": [],
   "source": []
  },
  {
   "cell_type": "markdown",
   "metadata": {},
   "source": [
    "## Conclusion"
   ]
  },
  {
   "cell_type": "code",
   "execution_count": null,
   "metadata": {},
   "outputs": [],
   "source": []
  },
  {
   "cell_type": "code",
   "execution_count": null,
   "metadata": {},
   "outputs": [],
   "source": []
  }
 ],
 "metadata": {
  "kernelspec": {
   "display_name": "rec-venv",
   "language": "python",
   "name": "python3"
  },
  "language_info": {
   "codemirror_mode": {
    "name": "ipython",
    "version": 3
   },
   "file_extension": ".py",
   "mimetype": "text/x-python",
   "name": "python",
   "nbconvert_exporter": "python",
   "pygments_lexer": "ipython3",
   "version": "3.13.2"
  }
 },
 "nbformat": 4,
 "nbformat_minor": 2
}
